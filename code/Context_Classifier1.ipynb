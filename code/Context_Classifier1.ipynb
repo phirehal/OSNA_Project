{
 "cells": [
  {
   "cell_type": "code",
   "execution_count": 141,
   "metadata": {
    "collapsed": true
   },
   "outputs": [],
   "source": [
    "import re, math, collections, itertools, os\n",
    "import nltk, nltk.classify.util, nltk.metrics\n",
    "from nltk.classify import NaiveBayesClassifier\n",
    "from nltk.metrics import BigramAssocMeasures\n",
    "from nltk.probability import FreqDist, ConditionalFreqDist\n",
    "from nltk import precision,recall\n",
    "from sklearn.feature_extraction.text import CountVectorizer\n",
    "from sklearn.feature_extraction.text import TfidfTransformer\n",
    "from sklearn.naive_bayes import MultinomialNB\n",
    "import numpy as np\n",
    "import io\n",
    "import hashlib\n",
    "from sklearn.cross_validation import KFold\n",
    "from sklearn.linear_model import LogisticRegression\n",
    "from sklearn.metrics import accuracy_score\n",
    "import matplotlib.pyplot as plt\n",
    "%matplotlib inline\n",
    "import json\n",
    "import os"
   ]
  },
  {
   "cell_type": "code",
   "execution_count": 142,
   "metadata": {
    "collapsed": false
   },
   "outputs": [
    {
     "name": "stdout",
     "output_type": "stream",
     "text": [
      "subdirectories are:['.DS_Store', 'test', 'train']\n"
     ]
    }
   ],
   "source": [
    "path = 'manual_labels_context'\n",
    "print('subdirectories are:' + str(os.listdir(path)))\n",
    "def get_files(path):\n",
    "    return sorted([path+ os.sep +f for f in os.listdir(path) if f.endswith(\".txt\")])"
   ]
  },
  {
   "cell_type": "code",
   "execution_count": 143,
   "metadata": {
    "collapsed": true
   },
   "outputs": [],
   "source": [
    "categories = ['F', 'S','A']"
   ]
  },
  {
   "cell_type": "code",
   "execution_count": 144,
   "metadata": {
    "collapsed": false
   },
   "outputs": [
    {
     "name": "stdout",
     "output_type": "stream",
     "text": [
      "found 46 FoodOnly,5 ServiceOnly,3 AmbienceOnly training files\n",
      "found 16 FoodOnly,2 ServiceOnly,1 AmbienceOnly testing files\n"
     ]
    }
   ],
   "source": [
    "F_train_files = get_files(path + os.sep + 'train' + os.sep + 'F')\n",
    "A_train_files = get_files(path  + os.sep + 'train' +  os.sep + 'A')\n",
    "S_train_files = get_files(path  + os.sep + 'train' +  os.sep + 'S')\n",
    "all_train_files = F_train_files + A_train_files + S_train_files\n",
    "needed_train_files = F_train_files\n",
    "not_needed_train_files = S_train_files + A_train_files  \n",
    "\n",
    "F_test_files = get_files(path  + os.sep + 'test' + os.sep + 'F')\n",
    "A_test_files = get_files(path  + os.sep + 'test' + os.sep + 'A')\n",
    "S_test_files = get_files(path  + os.sep + 'test' +  os.sep + 'S')\n",
    "all_test_files = F_test_files + A_test_files + S_test_files \n",
    "needed_test_files = F_test_files \n",
    "not_needed_test_files = S_test_files + A_test_files  \n",
    "\n",
    "\n",
    "print('found %d FoodOnly,%d ServiceOnly,%d AmbienceOnly training files' %\n",
    "      (len(F_train_files), len(S_train_files),len(A_train_files)))\n",
    "\n",
    "print('found %d FoodOnly,%d ServiceOnly,%d AmbienceOnly testing files' %\n",
    "      (len(F_test_files), len(S_test_files),len(A_test_files)))\n"
   ]
  },
  {
   "cell_type": "code",
   "execution_count": 145,
   "metadata": {
    "collapsed": false
   },
   "outputs": [
    {
     "name": "stdout",
     "output_type": "stream",
     "text": [
      "first 3 and last 3 labels are: [1 1 1 0 0 0]\n"
     ]
    }
   ],
   "source": [
    "def get_true_labels(file_names):\n",
    "    labels = []\n",
    "    for f in file_names:\n",
    "        if '/F' in f:\n",
    "            labels.append(1)\n",
    "        else:\n",
    "            labels.append(0)\n",
    "    return np.array(labels)\n",
    "\n",
    "labels = get_true_labels(all_train_files)\n",
    "print('first 3 and last 3 labels are: %s' % str(labels[[1,2,3,-3,-2,-1]]))"
   ]
  },
  {
   "cell_type": "code",
   "execution_count": 146,
   "metadata": {
    "collapsed": false
   },
   "outputs": [],
   "source": [
    "train_data = []\n",
    "for F_file in F_train_files:\n",
    "    with open(F_file, 'r') as content_file:\n",
    "        content = content_file.read()\n",
    "    train_data.append((unicode(content, 'unicode-escape'),'F'))\n",
    "    \n",
    "for S_file in S_train_files:\n",
    "    with open(S_file, 'r') as content_file:\n",
    "        content = content_file.read()\n",
    "    train_data.append((unicode(content, 'unicode-escape'),'S'))\n",
    "    \n",
    "for A_file in A_train_files:\n",
    "    with open(A_file, 'r') as content_file:\n",
    "        content = content_file.read()\n",
    "    train_data.append((unicode(content, 'unicode-escape'),'A'))"
   ]
  },
  {
   "cell_type": "code",
   "execution_count": 147,
   "metadata": {
    "collapsed": false
   },
   "outputs": [],
   "source": [
    "test_data = []\n",
    "for F_file in F_test_files:\n",
    "    with open(F_file, 'r') as content_file:\n",
    "        content = content_file.read()\n",
    "    test_data.append((unicode(content, 'unicode-escape'),'F'))\n",
    "    \n",
    "for S_file in S_test_files:\n",
    "    with open(S_file, 'r') as content_file:\n",
    "        content = content_file.read()\n",
    "    test_data.append((unicode(content, 'unicode-escape'),'S'))\n",
    "    \n",
    "for A_file in A_test_files:\n",
    "    with open(A_file, 'r') as content_file:\n",
    "        content = content_file.read()\n",
    "    test_data.append((unicode(content, 'unicode-escape'),'A'))"
   ]
  },
  {
   "cell_type": "code",
   "execution_count": 148,
   "metadata": {
    "collapsed": false
   },
   "outputs": [
    {
     "name": "stdout",
     "output_type": "stream",
     "text": [
      "('Total no of train files are:', 54)\n",
      "('Total no of test files are:', 19)\n"
     ]
    }
   ],
   "source": [
    "print(\"Total no of train files are:\",len(all_train_files))\n",
    "print(\"Total no of test files are:\",len(all_test_files))"
   ]
  },
  {
   "cell_type": "code",
   "execution_count": 149,
   "metadata": {
    "collapsed": false
   },
   "outputs": [],
   "source": [
    "train_file_data = [open(fil).read() for fil in all_train_files]\n",
    "test_file_data = [open(fil).read() for fil in all_test_files]"
   ]
  },
  {
   "cell_type": "code",
   "execution_count": 150,
   "metadata": {
    "collapsed": false
   },
   "outputs": [
    {
     "data": {
      "text/plain": [
       "u\"Overpriced. The xiao long baos price are double compare to the ones in Chinatown, and the taste really cant' compare with Joe's shanghai, really nothing to raved about if you have tried shanghainese food in other places.\""
      ]
     },
     "execution_count": 150,
     "metadata": {},
     "output_type": "execute_result"
    }
   ],
   "source": [
    "def file2string(filename):\n",
    "    return io.open(filename, encoding='utf8').readlines()[0]\n",
    "    \n",
    "file2string(all_train_files[20])"
   ]
  },
  {
   "cell_type": "code",
   "execution_count": 151,
   "metadata": {
    "collapsed": true
   },
   "outputs": [],
   "source": [
    "def tokenize(text):\n",
    "    return filter(None,re.split(r\"[\\W]\",text.lower()))"
   ]
  },
  {
   "cell_type": "code",
   "execution_count": 152,
   "metadata": {
    "collapsed": true
   },
   "outputs": [],
   "source": [
    "def tokenize_with_punct(text):\n",
    "    tokens = re.findall(r\"\\w+|\\S\", text.lower(),flags = re.L)\n",
    "    return [t.encode('utf-8').decode('utf-8').encode('utf-8') for t in tokens]"
   ]
  },
  {
   "cell_type": "code",
   "execution_count": 153,
   "metadata": {
    "collapsed": true
   },
   "outputs": [],
   "source": [
    "def tokenize_with_not(text):\n",
    "    tokens = tokenize_with_punct(text)\n",
    "    for i,token in enumerate(tokens):\n",
    "        if (token == 'not'):\n",
    "            if (i+1 <= len(tokens)-1):\n",
    "                tokens[i+1] = token + '_' + tokens[i+1]\n",
    "            if (i+2 <= len(tokens)-1):\n",
    "                tokens[i+2] = token + '_' + tokens[i+2]\n",
    "    return tokens"
   ]
  },
  {
   "cell_type": "code",
   "execution_count": 154,
   "metadata": {
    "collapsed": false
   },
   "outputs": [
    {
     "name": "stdout",
     "output_type": "stream",
     "text": [
      "matrix represents 54 documents with 1222 features\n",
      "first doc has terms:\n",
      "[26, 34, 38, 43, 47, 50, 54, 56, 58, 59, 78, 89, 92, 111, 118, 121, 128, 141, 152, 155, 161, 163, 176, 185, 195, 203, 205, 218, 270, 271, 315, 324, 325, 326, 350, 412, 414, 422, 424, 437, 444, 454, 476, 488, 504, 512, 518, 533, 535, 547, 581, 589, 592, 612, 653, 654, 663, 667, 672, 677, 682, 694, 713, 732, 741, 773, 774, 834, 853, 868, 923, 956, 1007, 1027, 1050, 1051, 1052, 1053, 1060, 1067, 1079, 1091, 1098, 1117, 1133, 1168, 1172, 1174, 1181, 1185, 1189, 1194, 1197, 1216]\n"
     ]
    }
   ],
   "source": [
    "def do_vectorize(filenames, tokenizer_fn=tokenize, min_df=1,\n",
    "                 max_df=1., binary=True,stop_words=None, ngram_range=(1,1)):\n",
    "    if type(filenames) is np.ndarray:\n",
    "        filenames = filenames.tolist()\n",
    "    vec = CountVectorizer(input='content',tokenizer=tokenizer_fn, min_df=min_df,\n",
    "                 max_df=max_df, binary=binary, ngram_range=ngram_range,stop_words=stop_words)\n",
    "    data  = []\n",
    "    for fil in filenames:\n",
    "        f = open(fil, 'r')\n",
    "        data.append(unicode(f.read(), 'unicode-escape'))\n",
    "    return vec.fit_transform(data),vec\n",
    "    \n",
    "matrix, vec = do_vectorize(all_train_files)\n",
    "print ('matrix represents %d documents with %d features' % (matrix.shape[0], matrix.shape[1]))\n",
    "print('first doc has terms:\\n%s' % (str(sorted(matrix[0].nonzero()[1]))))"
   ]
  },
  {
   "cell_type": "code",
   "execution_count": 155,
   "metadata": {
    "collapsed": false
   },
   "outputs": [
    {
     "name": "stdout",
     "output_type": "stream",
     "text": [
      "[u'1', u'10', u'11', u'1130am', u'11am', u'11pm', u'12', u'14', u'15', u'2', u'20', u'20mins', u'21', u'24', u'25', u'2nd', u'3', u'30', u'4', u'5', u'50', u'5pm', u'6', u'75', u'8', u'95', u'a', u'a4', u'able', u'about', u'act', u'activity', u'actual', u'actually', u'added', u'addition', u'adjacent', u'affordable', u'after', u'again', u'ago', u'agree', u'ahead', u'air', u'airport', u'aka', u'al', u'all', u'almost', u'already', u'also', u'although', u'always', u'am', u'amazing', u'ambiance', u'americanized', u'amount', u'an', u'and', u'annoying', u'another', u'answer', u'answered', u'any', u'anymore', u'anyone', u'anything', u'anyway', u'apart', u'appeals', u'appetite', u'appetizer', u'appetizers', u'approachable', u'are', u'area', u'areas', u'around', u'array', u'arrive', u'arrived', u'arriving', u'arse', u'as', u'asian', u'aside', u'asked', u'assuming', u'at', u'ate', u'attentive', u'authentic', u'authenticity', u'average', u'away', u'aways', u'awesome', u'awkward', u'baby', u'back', u'bacon', u'bad', u'bamboo', u'bao', u'baos', u'bar', u'barely', u'basically', u'basket', u'batches', u'be', u'bean', u'beans', u'because', u'beef', u'been', u'before', u'being', u'belly', u'best', u'better', u'between', u'big', u'bigger', u'bit', u'bite', u'bites', u'biting', u'bitter', u'blew', u'block', u'blood', u'bob', u'boil', u'boiling', u'bok', u'bomb', u'bon', u'bone', u'bones', u'bonus', u'bordering', u'boring', u'boston', u'both', u'bottom', u'bowl', u'boy', u'braised', u'break', u'breaking', u'breath', u'broke', u'broken', u'brooklyn', u'bros', u'broth', u'brought', u'buds', u'bullshit', u'bunch', u'buns', u'burning', u'business', u'busy', u'but', u'butt', u'by', u'cake', u'cakes', u'call', u'called', u'calling', u'came', u'camphor', u'can', u'cant', u'car', u'careful', u'carrots', u'case', u'cashier', u'celery', u'chamber', u'changing', u'cheap', u'check', u'chef', u'chestnuts', u'chewy', u'chicken', u'chili', u'chilis', u'china', u'chinatown', u'chinese', u'choice', u'chose', u'choy', u'circular', u'city', u'clean', u'close', u'closed', u'cold', u'come', u'comes', u'coming', u'communal', u'companions', u'comparable', u'compare', u'compared', u'complained', u'complains', u'complementary', u'complete', u'completely', u'considered', u'considering', u'consistent', u'consume', u'consumption', u'container', u'containers', u'contains', u'cook', u'cooked', u'cooking', u'corn', u'corners', u'cost', u'couldn', u'couldnt', u'couple', u'courteous', u'cousin', u'coworkers', u'crab', u'craving', u'creeping', u'crispy', u'cross', u'crowded', u'ct', u'cucumber', u'cucumbers', u'cumin', u'curd', u'curry', u'cusine', u'cut', u'cutting', u'd', u'dad', u'dan', u'dash', u'day', u'days', u'deaden', u'deal', u'dealing', u'death', u'decent', u'decently', u'decided', u'deeeelicious', u'deep', u'def', u'definite', u'definitely', u'delicious', u'delightful', u'delish', u'delivery', u'demand', u'dense', u'dente', u'deserved', u'destitute', u'detract', u'did', u'didn', u'die', u'dim', u'din', u'diners', u'ding', u'dining', u'dinner', u'dip', u'directed', u'disappointed', u'disappointing', u'discover', u'discussing', u'dish', u'dishes', u'disorganization', u'distinct', u'distinguish', u'do', u'does', u'dollars', u'don', u'done', u'door', u'doordash', u'double', u'dough', u'doughy', u'down', u'downer', u'downgrade', u'downtown', u'dozen', u'drenched', u'drink', u'drip', u'drop', u'dropped', u'duck', u'dumpling', u'dumplings', u'during', u'e', u'each', u'early', u'easily', u'eat', u'eating', u'echo', u'effect', u'egg', u'eggplant', u'eggplants', u'eggs', u'eight', u'either', u'else', u'empty', u'ends', u'england', u'enjoyed', u'enough', u'entire', u'entrees', u'environment', u'escape', u'especially', u'essential', u'establishment', u'etc', u'even', u'ever', u'everyday', u'everyone', u'everything', u'exactly', u'excellent', u'exception', u'excited', u'executive', u'expected', u'expecting', u'expensive', u'experience', u'experienced', u'experiences', u'explaining', u'express', u'extra', u'extraordinary', u'extremely', u'fact', u'fail', u'familiar', u'family', u'fan', u'fantastic', u'far', u'fare', u'fashioned', u'fast', u'fat', u'fattier', u'fatty', u'favorite', u'favorites', u'feel', u'few', u'fidi', u'filled', u'fillet', u'filling', u'fills', u'finally', u'find', u'fingers', u'finishing', u'first', u'fish', u'five', u'flavor', u'flavorful', u'flop', u'flour', u'fluffy', u'flushing', u'focus', u'folks', u'food', u'foods', u'for', u'forget', u'forgotten', u'found', u'france', u'francisco', u'frankly', u'freak', u'fresh', u'freshly', u'fried', u'friend', u'friendly', u'friends', u'from', u'front', u'full', u'fun', u'fung', u'funny', u'further', u'furthermore', u'garlic', u'gem', u'general', u'generous', u'gentlemen', u'gently', u'gentrification', u'gentrifiers', u'get', u'gets', u'getting', u'ginger', u'give', u'given', u'gives', u'giving', u'glad', u'glue', u'go', u'going', u'gold', u'gonna', u'good', u'goodness', u'got', u'grain', u'greasy', u'great', u'green', u'ground', u'guess', u'guy', u'guys', u'hack', u'had', u'hangry', u'happened', u'happier', u'happy', u'hard', u'has', u'hatch', u'have', u'having', u'he', u'heads', u'heard', u'hearts', u'heavy', u'hell', u'helped', u'her', u'here', u'highlight', u'highly', u'himself', u'hipster', u'his', u'hold', u'hole', u'home', u'hometown', u'honest', u'honestly', u'hood', u'hope', u'horrid', u'hostess', u'hot', u'hour', u'hours', u'house', u'how', u'however', u'huge', u'hype', u'i', u'if', u'ignore', u'immediately', u'impressed', u'improved', u'in', u'including', u'inedible', u'ingredients', u'inside', u'instead', u'instructions', u'intact', u'interactions', u'interesting', u'intestines', u'into', u'introducing', u'investigating', u'irritated', u'is', u'isn', u'it', u'item', u'items', u'its', u'itself', u'jalapeno', u'job', u'joe', u'join', u'joint', u'juicy', u'jumbo', u'just', u'kathy', u'kay', u'kept', u'key', u'kick', u'kind', u'know', u'knowing', u'known', u'kung', u'labeled', u'lackluster', u'lamb', u'large', u'larger', u'last', u'laughing', u'layer', u'leaked', u'learned', u'least', u'leave', u'leaves', u'left', u'leftovers', u'leg', u'less', u'let', u'lettuce', u'level', u'life', u'lift', u'like', u'liked', u'likely', u'lime', u'limited', u'line', u'linger', u'lips', u'list', u'little', u'lived', u'll', u'loaded', u'local', u'located', u'location', u'long', u'longer', u'looked', u'looking', u'looks', u'lot', u'loud', u'loudest', u'love', u'loved', u'low', u'luck', u'luckily', u'lunch', u'm', u'made', u'majority', u'make', u'makes', u'making', u'mala', u'manager', u'manhattan', u'many', u'mapo', u'marinated', u'may', u'maybe', u'md', u'me', u'meager', u'meal', u'meals', u'meat', u'meatball', u'meatballs', u'meaty', u'mediocre', u'medium', u'menu', u'mere', u'merely', u'method', u'metrotech', u'midtown', u'mile', u'mill', u'million', u'min', u'minced', u'minimal', u'minor', u'mins', u'minute', u'minutes', u'mmmgood', u'mono', u'months', u'more', u'most', u'mostly', u'mouth', u'moving', u'much', u'multiple', u'music', u'must', u'my', u'nearly', u'need', u'needs', u'neighborhood', u'neighbors', u'never', u'new', u'newbies', u'newly', u'next', u'nice', u'nicely', u'nirvana', u'no', u'noise', u'non', u'noob', u'noodle', u'noodles', u'not', u'notch', u'note', u'nothing', u'now', u'number', u'numbing', u'ny', u'nyc', u'obligated', u'obnoxiously', u'of', u'off', u'office', u'oh', u'oil', u'oily', u'ok', u'okay', u'ol', u'old', u'omg', u'on', u'once', u'one', u'ones', u'online', u'only', u'oozing', u'open', u'opened', u'opening', u'operation', u'option', u'options', u'or', u'ord', u'order', u'ordered', u'ordering', u'orders', u'original', u'other', u'otherwise', u'our', u'ourselves', u'out', u'outs', u'outside', u'over', u'overall', u'overbearing', u'overdone', u'overeat', u'overpriced', u'overrated', u'own', u'page', u'pan', u'pancake', u'pancakes', u'pao', u'paper', u'par', u'parching', u'part', u'parts', u'pass', u'past', u'patient', u'pea', u'peak', u'pell', u'people', u'pepper', u'peppercorn', u'peppers', u'per', u'perfect', u'perfectly', u'person', u'personally', u'pick', u'pickled', u'pickles', u'piece', u'pieces', u'pinenuts', u'piping', u'pk', u'place', u'places', u'plain', u'plastic', u'played', u'pleasant', u'pleasantly', u'please', u'plump', u'pockets', u'point', u'poor', u'pork', u'portion', u'portions', u'positive', u'possibility', u'possible', u'pot', u'pour', u'poured', u'prawns', u'pre', u'prepared', u'presumably', u'pretty', u'prevent', u'price', u'prices', u'pricey', u'printed', u'prob', u'probably', u'problem', u'proceed', u'process', u'promptly', u'proper', u'provided', u'providing', u'punctured', u'pungent', u'put', u'putting', u'quality', u'questions', u'quick', u'quicker', u'quickly', u'quieter', u'quite', u'r', u'radishes', u'rare', u'rather', u'ratio', u'rave', u'raved', u're', u'read', u'reads', u'real', u'really', u'reasonable', u'reasons', u'receive', u'received', u'recently', u'recommend', u'recommended', u'red', u'regret', u'reheat', u'relatively', u'reliably', u'remind', u'removed', u'repeat', u'report', u'rest', u'restaurant', u'reveiwer', u'review', u'reviews', u'rib', u'ribs', u'rice', u'rich', u'ride', u'right', u'roll', u'room', u'run', u'running', u'rush', u's', u'safe', u'said', u'sake', u'salad', u'salt', u'salty', u'same', u'sample', u'san', u'sat', u'satisfying', u'saturday', u'sauce', u'savor', u'savory', u'say', u'saying', u'scallion', u'scallions', u'scallops', u'scratched', u'screaming', u'seat', u'seated', u'seating', u'secluded', u'second', u'see', u'seem', u'seemed', u'seep', u'self', u'serious', u'seriously', u'serve', u'served', u'server', u'service', u'serving', u'sesame', u'shanghai', u'shanghainese', u'shared', u'shelled', u'shocked', u'should', u'shouting', u'showed', u'shrimp', u'sichuan', u'side', u'sides', u'similar', u'simply', u'since', u'single', u'sip', u'sit', u'sitting', u'sized', u'sizes', u'skin', u'skip', u'sliced', u'slices', u'slurp', u'small', u'smaller', u'smiled', u'smiling', u'smoked', u'smooth', u'snacks', u'snobby', u'snow', u'so', u'soft', u'soggy', u'solid', u'some', u'somehow', u'something', u'somewhat', u'somewhere', u'soo', u'soooo', u'sort', u'soup', u'soupy', u'sour', u'sourness', u'soy', u'speak', u'speaking', u'special', u'specials', u'specialties', u'spend', u'spending', u'spice', u'spicy', u'spinach', u'splashing', u'split', u'splurged', u'spoke', u'spoon', u'spoons', u'spot', u'spots', u'spring', u'staff', u'stand', u'standard', u'standout', u'star', u'starch', u'start', u'starts', u'states', u'steal', u'steam', u'steamed', u'steamers', u'steaming', u'stickier', u'sticking', u'sticks', u'still', u'stop', u'stopped', u'straight', u'strange', u'strangers', u'street', u'streets', u'stretch', u'stuff', u'style', u'subway', u'such', u'suck', u'sum', u'super', u'superb', u'suppose', u'suprised', u'sure', u'surface', u'surprise', u'surprised', u'surprising', u'surprisingly', u'surrounded', u'sweet', u'sweeter', u'sweetness', u'szechuan', u't', u'table', u'tables', u'tag', u'tai', u'take', u'takeout', u'talking', u'tangbao', u'taste', u'tasted', u'tastes', u'tasty', u'taxim', u'tea', u'tell', u'tells', u'temperature', u'tend', u'tender', u'terminal', u'terrible', u'texture', u'than', u'that', u'the', u'their', u'theirs', u'them', u'themselves', u'then', u'there', u'these', u'they', u'thick', u'thin', u'thing', u'things', u'think', u'third', u'this', u'those', u'though', u'thought', u'three', u'through', u'throw', u'time', u'times', u'tingle', u'tiny', u'tissues', u'to', u'today', u'tofu', u'tomato', u'ton', u'tongs', u'too', u'took', u'top', u'total', u'totally', u'tough', u'town', u'trade', u'traditional', u'train', u'traveled', u'travelled', u'treated', u'tried', u'trio', u'trip', u'trust', u'try', u'turned', u'turnips', u'twenty', u'twice', u'two', u'types', u'typical', u'umm', u'under', u'understand', u'underwhelming', u'undoubtedly', u'unfortunately', u'until', u'up', u'upcharge', u'update', u'upset', u'us', u'use', u'used', u'usual', u'usually', u've', u'vege', u'vegetable', u'vegetables', u'vegetarian', u'vegetarians', u'veggie', u'veggies', u'version', u'versus', u'very', u'via', u'victims', u'vinegar', u'vinegary', u'visit', u'w', u'wait', u'waited', u'waiter', u'waiting', u'want', u'wanted', u'wanting', u'warmer', u'warn', u'warned', u'was', u'wasn', u'waste', u'watch', u'watching', u'water', u'way', u'we', u'week', u'weekday', u'weeks', u'welcome', u'well', u'went', u'were', u'weren', u'what', u'whatever', u'when', u'where', u'whereas', u'which', u'while', u'white', u'who', u'whoever', u'whole', u'why', u'will', u'willing', u'window', u'wine', u'winter', u'wired', u'wise', u'wished', u'with', u'without', u'won', u'wonder', u'word', u'work', u'worse', u'worth', u'would', u'wouldn', u'wrapper', u'wretchedly', u'wrong', u'wuxi', u'xialongbao', u'xiao', u'xiaolong', u'xlb', u'xlbs', u'yaso', u'yeah', u'years', u'yelp', u'yes', u'yesterday', u'yet', u'york', u'you', u'your', u'yourself', u'yt', u'yum', u'zero']\n"
     ]
    }
   ],
   "source": [
    "print vec.get_feature_names()"
   ]
  },
  {
   "cell_type": "code",
   "execution_count": 156,
   "metadata": {
    "collapsed": false
   },
   "outputs": [
    {
     "name": "stdout",
     "output_type": "stream",
     "text": [
      "first shuffled document manual_labels_context/train/F/16.txt has label 1 and terms: [26, 41, 59, 70, 84, 161, 168, 205, 230, 304, 305, 323, 340, 374, 385, 412, 414, 443, 454, 458, 460, 476, 488, 492, 512, 518, 533, 535, 542, 554, 571, 580, 601, 610, 654, 659, 685, 694, 725, 729, 738, 756, 785, 854, 856, 857, 858, 868, 900, 909, 912, 952, 956, 958, 1005, 1023, 1027, 1036, 1050, 1051, 1052, 1079, 1101, 1105, 1113, 1114, 1120, 1153, 1176, 1177, 1189, 1195]\n"
     ]
    }
   ],
   "source": [
    "def repeatable_random(seed):\n",
    "    hash = str(seed)\n",
    "    while True:\n",
    "        hash = hashlib.md5(hash).digest()\n",
    "        for c in hash:\n",
    "            yield ord(c)\n",
    "\n",
    "def repeatable_shuffle(X, y, filenames):\n",
    "    r = repeatable_random(42) \n",
    "    indices = sorted(range(X.shape[0]), key=lambda x: next(r))\n",
    "    return X[indices], y[indices], np.array(filenames)[indices]\n",
    "\n",
    "X, y, filenames = repeatable_shuffle(matrix, labels, all_train_files)\n",
    "\n",
    "print('first shuffled document %s has label %d and terms: %s' % \n",
    "      (filenames[0], y[0], sorted(X[0].nonzero()[1])))"
   ]
  },
  {
   "cell_type": "code",
   "execution_count": 157,
   "metadata": {
    "collapsed": true
   },
   "outputs": [],
   "source": [
    "def get_clf():\n",
    "    return LogisticRegression(random_state=42)"
   ]
  },
  {
   "cell_type": "code",
   "execution_count": 158,
   "metadata": {
    "collapsed": false
   },
   "outputs": [
    {
     "name": "stdout",
     "output_type": "stream",
     "text": [
      "fold 0 accuracy= 0.818181818182\n",
      "fold 1 accuracy= 0.909090909091\n",
      "fold 2 accuracy= 0.818181818182\n",
      "fold 3 accuracy= 1.0\n",
      "fold 4 accuracy= 0.8\n",
      "average cross validation accuracy=0.8691\n"
     ]
    }
   ],
   "source": [
    "def do_cross_validation(X, y, n_folds=5, verbose=False):\n",
    "    kf = KFold(X.shape[0],n_folds,shuffle=False,random_state=None)\n",
    "    c = tot =0\n",
    "    clf = get_clf()\n",
    "    for k, (train, test) in enumerate(kf):\n",
    "        clf.fit(X[train], y[train])\n",
    "        score = accuracy_score(y[test], clf.predict(X[test]))\n",
    "        if (verbose):\n",
    "            print \"fold\", c ,\"accuracy=\",score\n",
    "            c+=1\n",
    "        tot += score\n",
    "    return (1.* tot)/ n_folds\n",
    "    \n",
    "print('average cross validation accuracy=%.4f' %\n",
    "      do_cross_validation(X, y, verbose=True))"
   ]
  },
  {
   "cell_type": "code",
   "execution_count": 159,
   "metadata": {
    "collapsed": true
   },
   "outputs": [],
   "source": [
    "def do_expt(filenames, y, tokenizer_fn=tokenize,\n",
    "            min_df=1, max_df=1., binary=True,\n",
    "            ngram_range=(1,1), n_folds=5):\n",
    "    return do_cross_validation(do_vectorize(filenames.tolist(),binary=binary,tokenizer_fn=tokenizer_fn,min_df=min_df,max_df=max_df)[0], y,n_folds=n_folds)"
   ]
  },
  {
   "cell_type": "code",
   "execution_count": 160,
   "metadata": {
    "collapsed": false
   },
   "outputs": [
    {
     "name": "stdout",
     "output_type": "stream",
     "text": [
      "accuracy using default settings: 0.8691\n"
     ]
    }
   ],
   "source": [
    "print('accuracy using default settings: %.4g' % do_expt(filenames, y))"
   ]
  },
  {
   "cell_type": "code",
   "execution_count": 161,
   "metadata": {
    "collapsed": false
   },
   "outputs": [
    {
     "data": {
      "text/plain": [
       "[0.85185185185185186,\n",
       " 0.86909090909090914,\n",
       " 0.87333333333333341,\n",
       " 0.86666666666666681,\n",
       " 0.84999999999999998,\n",
       " 0.875,\n",
       " 0.85999999999999999]"
      ]
     },
     "execution_count": 161,
     "metadata": {},
     "output_type": "execute_result"
    },
    {
     "data": {
      "image/png": "[encoded data removed]",
      "text/plain": [
       "<matplotlib.figure.Figure at 0x11683b1d0>"
      ]
     },
     "metadata": {},
     "output_type": "display_data"
    }
   ],
   "source": [
    "def compare_n_folds(filenames, y):\n",
    "    arr = [2,5,10,20,30,40,50]\n",
    "    val = [do_expt(filenames, y,n_folds=i) for i in arr]\n",
    "    plt.figure()\n",
    "    plt.xlabel('n_folds')\n",
    "    plt.ylabel('accuracy')\n",
    "    plt.plot(arr,val,'bo-')\n",
    "    return val\n",
    "    \n",
    "compare_n_folds(filenames, y)"
   ]
  },
  {
   "cell_type": "code",
   "execution_count": 192,
   "metadata": {
    "collapsed": false
   },
   "outputs": [
    {
     "data": {
      "text/plain": [
       "[0.86909090909090914, 0.88909090909090904]"
      ]
     },
     "execution_count": 192,
     "metadata": {},
     "output_type": "execute_result"
    }
   ],
   "source": [
    "def compare_binary(filenames, y):\n",
    "    return [do_expt(filenames, y,binary=True),do_expt(filenames, y,binary=False)]\n",
    "          \n",
    "compare_binary(filenames, y)"
   ]
  },
  {
   "cell_type": "code",
   "execution_count": 193,
   "metadata": {
    "collapsed": false
   },
   "outputs": [
    {
     "data": {
      "text/plain": [
       "[0.86909090909090914, 0.86909090909090914, 0.86909090909090914]"
      ]
     },
     "execution_count": 193,
     "metadata": {},
     "output_type": "execute_result"
    }
   ],
   "source": [
    "def tokenizer_expt(all_train_files, y):\n",
    "    return [do_expt(all_train_files, y,tokenizer_fn=tokenize),do_expt(all_train_files, y,tokenizer_fn=tokenize_with_punct),do_expt(all_train_files, y,tokenizer_fn=tokenize_with_not)]\n",
    "\n",
    "tokenizer_expt(filenames, y)"
   ]
  },
  {
   "cell_type": "code",
   "execution_count": 194,
   "metadata": {
    "collapsed": false
   },
   "outputs": [
    {
     "data": {
      "text/plain": [
       "[0.86909090909090914,\n",
       " 0.86909090909090914,\n",
       " 0.86909090909090914,\n",
       " 0.86909090909090914,\n",
       " 0.88727272727272732,\n",
       " 0.88727272727272732,\n",
       " 0.90545454545454551,\n",
       " 0.90545454545454551,\n",
       " 0.90545454545454551,\n",
       " 0.90545454545454551]"
      ]
     },
     "execution_count": 194,
     "metadata": {},
     "output_type": "execute_result"
    },
    {
     "data": {
      "image/png": "[encoded data removed]",
      "text/plain": [
       "<matplotlib.figure.Figure at 0x1092fdbd0>"
      ]
     },
     "metadata": {},
     "output_type": "display_data"
    }
   ],
   "source": [
    "def min_df_expt(filenames, y):\n",
    "    mindf = range(1,11)\n",
    "    val = [do_expt(filenames, y,min_df=i,tokenizer_fn=tokenize) for i in mindf]\n",
    "    plt.figure()\n",
    "    plt.xlabel('min_df')\n",
    "    plt.ylabel('accuracy')\n",
    "    plt.plot(mindf,val,'bo-')\n",
    "    return val\n",
    "\n",
    "min_df_expt(filenames, y)"
   ]
  },
  {
   "cell_type": "code",
   "execution_count": 195,
   "metadata": {
    "collapsed": false
   },
   "outputs": [
    {
     "data": {
      "text/plain": [
       "LogisticRegression(C=1.0, class_weight=None, dual=False, fit_intercept=True,\n",
       "          intercept_scaling=1, max_iter=100, multi_class='ovr',\n",
       "          penalty='l2', random_state=42, solver='liblinear', tol=0.0001,\n",
       "          verbose=0)"
      ]
     },
     "execution_count": 195,
     "metadata": {},
     "output_type": "execute_result"
    }
   ],
   "source": [
    "X, vec = do_vectorize(filenames, tokenizer_fn=tokenize,\n",
    "                      binary=True, min_df=6, max_df=1.)\n",
    "clf = get_clf()\n",
    "clf.fit(X, y)"
   ]
  },
  {
   "cell_type": "code",
   "execution_count": 196,
   "metadata": {
    "collapsed": false
   },
   "outputs": [
    {
     "name": "stdout",
     "output_type": "stream",
     "text": [
      "<type 'numpy.ndarray'>\n",
      "(1, 146)\n"
     ]
    }
   ],
   "source": [
    "print type(clf.coef_)\n",
    "print clf.coef_.shape"
   ]
  },
  {
   "cell_type": "code",
   "execution_count": 197,
   "metadata": {
    "collapsed": false
   },
   "outputs": [
    {
     "name": "stdout",
     "output_type": "stream",
     "text": [
      "X_test represents 19 documents with 146 features\n",
      "y_test has 16 positive and 3 negative labels\n",
      "first testing file is manual_labels_context/test/F/103.txt\n",
      "last testing file is manual_labels_context/test/S/188.txt\n",
      "testing accuracy=0.8421052632\n"
     ]
    }
   ],
   "source": [
    "X_test = vec.transform(all_test_files)\n",
    "y_test = np.array([1] * len(needed_test_files) + [0] * len(not_needed_test_files))\n",
    "print('X_test represents %d documents with %d features' % (X_test.shape[0], X_test.shape[1]))\n",
    "print('y_test has %d positive and %d negative labels' % (len(np.where(y_test==1)[0]),\n",
    "                                                          len(np.where(y_test==0)[0])))\n",
    "print('first testing file is %s' % all_test_files[0])\n",
    "print('last testing file is %s' % all_test_files[-1])\n",
    "print('testing accuracy=%.10g' % accuracy_score(y_test, clf.predict(X_test)))"
   ]
  },
  {
   "cell_type": "code",
   "execution_count": 198,
   "metadata": {
    "collapsed": false
   },
   "outputs": [
    {
     "data": {
      "text/plain": [
       "10"
      ]
     },
     "execution_count": 198,
     "metadata": {},
     "output_type": "execute_result"
    }
   ],
   "source": [
    "def index_of_term(vec, term):\n",
    "    return vec.get_feature_names().index(term)\n",
    "\n",
    "index_of_term(vec, 'and')"
   ]
  },
  {
   "cell_type": "code",
   "execution_count": 199,
   "metadata": {
    "collapsed": false
   },
   "outputs": [
    {
     "name": "stdout",
     "output_type": "stream",
     "text": [
      "[u'2', u'5', u'6', u'a', u'about', u'after', u'again', u'all', u'also', u'an', u'and', u'are', u'as', u'at', u'back', u'be', u'been', u'best', u'bit', u'but', u'by', u'came', u'chicken', u'chinatown', u'chinese', u'cold', u'come', u'cooked', u'definitely', u'delicious', u'dish', u'dumpling', u'dumplings', u'enough', u'excellent', u'experience', u'first', u'flavor', u'food', u'for', u'fresh', u'from', u'get', u'go', u'good', u'got', u'great', u'had', u'has', u'have', u'here', u'hot', u'i', u'if', u'in', u'inside', u'is', u'it', u'joe', u'just', u'like', u'little', u'long', u'lunch', u'me', u'menu', u'minutes', u'more', u'most', u'much', u'my', u'new', u'next', u'noodles', u'not', u'of', u'off', u'on', u'one', u'only', u'order', u'ordered', u'other', u'our', u'out', u'over', u'place', u'places', u'pork', u'pretty', u'quality', u'really', u'restaurant', u'rice', u's', u'sauce', u'say', u'service', u'shanghai', u'shanghainese', u'since', u'skin', u'so', u'some', u'soup', u'sour', u'spicy', u't', u'table', u'take', u'taste', u'tasty', u'than', u'that', u'the', u'their', u'then', u'there', u'they', u'this', u'though', u'time', u'to', u'too', u'tried', u'try', u'up', u'us', u've', u'very', u'wait', u'want', u'was', u'way', u'we', u'were', u'what', u'when', u'which', u'will', u'with', u'worth', u'would', u'xiao', u'you', u'your']\n"
     ]
    }
   ],
   "source": [
    "print vec.get_feature_names()"
   ]
  },
  {
   "cell_type": "code",
   "execution_count": 200,
   "metadata": {
    "collapsed": false
   },
   "outputs": [
    {
     "name": "stdout",
     "output_type": "stream",
     "text": [
      "testing accuracy=0.8421052632\n"
     ]
    }
   ],
   "source": [
    "def train_after_removing_features(X, y, vec, features_to_remove):\n",
    "    listofcols = [index_of_term(vec, f) for f in features_to_remove]\n",
    "    for i in listofcols:\n",
    "        X[:,i] = 0\n",
    "    clf = get_clf()\n",
    "    clf.fit(X,y)\n",
    "    return clf\n",
    "    \n",
    "clf = train_after_removing_features(X.copy(), y, vec, ['soup'])\n",
    "print('testing accuracy=%.10g' % accuracy_score(y_test, clf.predict(X_test)))"
   ]
  }
 ],
 "metadata": {
  "kernelspec": {
   "display_name": "Python 2",
   "language": "python",
   "name": "python2"
  },
  "language_info": {
   "codemirror_mode": {
    "name": "ipython",
    "version": 2
   },
   "file_extension": ".py",
   "mimetype": "text/x-python",
   "name": "python",
   "nbconvert_exporter": "python",
   "pygments_lexer": "ipython2",
   "version": "2.7.10"
  }
 },
 "nbformat": 4,
 "nbformat_minor": 0
}
