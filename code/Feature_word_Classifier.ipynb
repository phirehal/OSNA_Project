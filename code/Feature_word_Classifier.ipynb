{
 "cells": [
  {
   "cell_type": "code",
   "execution_count": 1,
   "metadata": {
    "collapsed": false
   },
   "outputs": [],
   "source": [
    "import re, math, collections, itertools, os\n",
    "import nltk, nltk.classify.util, nltk.metrics\n",
    "from nltk.classify import NaiveBayesClassifier\n",
    "from nltk.metrics import BigramAssocMeasures\n",
    "from nltk.probability import FreqDist, ConditionalFreqDist\n",
    "from nltk import precision,recall"
   ]
  },
  {
   "cell_type": "code",
   "execution_count": 2,
   "metadata": {
    "collapsed": false
   },
   "outputs": [
    {
     "name": "stdout",
     "output_type": "stream",
     "text": [
      "subdirectories are:['test', 'train']\n"
     ]
    }
   ],
   "source": [
    "path = 'manual_labels'\n",
    "print('subdirectories are:' + str(os.listdir(path)))\n",
    "def get_files(path):\n",
    "    return sorted([path+ os.sep +f for f in os.listdir(path) if f.endswith(\".txt\")])"
   ]
  },
  {
   "cell_type": "code",
   "execution_count": 3,
   "metadata": {
    "collapsed": false
   },
   "outputs": [
    {
     "name": "stdout",
     "output_type": "stream",
     "text": [
      "found 79 positive and 33 negative training files\n",
      "found 26 positive and 7 negative test files\n",
      "first positive file: manual_labels/train/pos/1.txt\n",
      "first negative file: manual_labels/train/neg/102.txt\n"
     ]
    }
   ],
   "source": [
    "pos_train_files = get_files(path + os.sep + 'train' + os.sep + 'pos')\n",
    "neg_train_files = get_files(path + os.sep + 'train' + os.sep + 'neg')\n",
    "all_train_files = pos_train_files + neg_train_files\n",
    "\n",
    "pos_test_files = get_files(path + os.sep + 'test' + os.sep + 'pos')\n",
    "neg_test_files = get_files(path + os.sep + 'test' + os.sep + 'neg')\n",
    "all_test_files = pos_test_files + neg_test_files\n",
    "\n",
    "print('found %d positive and %d negative training files' %\n",
    "      (len(pos_train_files), len(neg_train_files)))\n",
    "\n",
    "print('found %d positive and %d negative test files' %\n",
    "      (len(pos_test_files), len(neg_test_files)))\n",
    "\n",
    "print('first positive file: %s' % pos_train_files[0])\n",
    "print('first negative file: %s' % neg_train_files[0])"
   ]
  },
  {
   "cell_type": "code",
   "execution_count": 4,
   "metadata": {
    "collapsed": false
   },
   "outputs": [
    {
     "name": "stdout",
     "output_type": "stream",
     "text": [
      "Now am using all the words as feature set\n",
      "train on 342 instances, test on 274 instances\n",
      "accuracy: 0.43795620438\n",
      "pos precision: 0.432432432432\n",
      "pos recall: 0.941176470588\n",
      "neg precision: 0.533333333333\n",
      "neg recall: 0.0516129032258\n",
      "Most Informative Features\n",
      "                       2 = True              neg : pos    =     12.4 : 1.0\n",
      "                ordering = True              neg : pos    =      6.9 : 1.0\n",
      "                 already = True              neg : pos    =      6.9 : 1.0\n",
      "                    Naan = True              neg : pos    =      6.9 : 1.0\n",
      "               something = True              neg : pos    =      6.9 : 1.0\n",
      "                    give = True              neg : pos    =      6.9 : 1.0\n",
      "                   hours = True              neg : pos    =      6.9 : 1.0\n",
      "                   Don't = True              neg : pos    =      6.9 : 1.0\n",
      "                    make = True              neg : pos    =      6.9 : 1.0\n",
      "                  Sunday = True              neg : pos    =      6.9 : 1.0\n"
     ]
    }
   ],
   "source": [
    "def evaluate_features(feature_select):\n",
    "    positiveFeatures = []\n",
    "    negativeFeatures = []\n",
    "    for pos_file in pos_train_files:\n",
    "        with open(pos_file, 'r') as posSentences:\n",
    "            for i in posSentences:\n",
    "                posWords = re.findall(r\"[\\w']+|[.,!?;]\", i.rstrip())\n",
    "                posWords = [feature_select(posWords), 'pos']\n",
    "                positiveFeatures.append(posWords)\n",
    "    for neg_file in neg_train_files:\n",
    "        with open(neg_file, 'r') as negSentences:\n",
    "            for i in negSentences:\n",
    "                negWords = re.findall(r\"[\\w']+|[.,!?;]\", i.rstrip())\n",
    "                negWords = [feature_select(negWords), 'neg']\n",
    "                negativeFeatures.append(negWords)\n",
    "\n",
    "    #70% to train and remaining to test\n",
    "    posCutoff = int(math.floor(len(positiveFeatures)*7/10))\n",
    "    negCutoff = int(math.floor(len(negativeFeatures)*3/10))\n",
    "    trainFeatures = positiveFeatures[:posCutoff] + negativeFeatures[:negCutoff]\n",
    "    testFeatures = positiveFeatures[posCutoff:] + negativeFeatures[negCutoff:]\n",
    "\n",
    "    classifier = NaiveBayesClassifier.train(trainFeatures)\n",
    "\n",
    "    referenceSets = collections.defaultdict(set)\n",
    "    testSets = collections.defaultdict(set)\n",
    "\n",
    "    for i, (features, label) in enumerate(testFeatures):\n",
    "        referenceSets[label].add(i)\n",
    "        predicted = classifier.classify(features)\n",
    "        testSets[predicted].add(i)\n",
    "\n",
    "    print 'train on %d instances, test on %d instances' % (len(trainFeatures), len(testFeatures))\n",
    "    print 'accuracy:', nltk.classify.util.accuracy(classifier, testFeatures)\n",
    "    print 'pos precision:', precision(referenceSets['pos'], testSets['pos'])\n",
    "    print 'pos recall:', recall(referenceSets['pos'], testSets['pos'])\n",
    "    print 'neg precision:', precision(referenceSets['neg'], testSets['neg'])\n",
    "    print 'neg recall:', recall(referenceSets['neg'], testSets['neg'])\n",
    "    classifier.show_most_informative_features(10)\n",
    "\n",
    "#creates a feature selection mechanism that uses all words\n",
    "def make_full_dict(words):\n",
    "    return dict([(word, True) for word in words])\n",
    "\n",
    "#tries using all words as the feature selection mechanism\n",
    "print 'Now am using all the words as feature set'\n",
    "evaluate_features(make_full_dict)"
   ]
  },
  {
   "cell_type": "code",
   "execution_count": 5,
   "metadata": {
    "collapsed": true
   },
   "outputs": [],
   "source": [
    "def create_word_scores():\n",
    "    posWords = []\n",
    "    negWords = []\n",
    "    for pos_file in pos_train_files:\n",
    "        with open(pos_file, 'r') as posSentences:\n",
    "            for i in posSentences:\n",
    "                posWord = re.findall(r\"[\\w']+|[.,!?;]\", i.rstrip())\n",
    "                posWords.append(posWord)\n",
    "    for neg_file in neg_train_files:\n",
    "        with open(neg_file, 'r') as negSentences:\n",
    "            for i in negSentences:\n",
    "                negWord = re.findall(r\"[\\w']+|[.,!?;]\", i.rstrip())\n",
    "                negWords.append(negWord)\n",
    "        posWords = list(itertools.chain(*posWords))\n",
    "        negWords = list(itertools.chain(*negWords))\n",
    "\n",
    "    word_fd = FreqDist()\n",
    "    cond_word_fd = ConditionalFreqDist()\n",
    "    for word in posWords:\n",
    "        word_fd[word.lower()] += 1\n",
    "        cond_word_fd['pos'][word.lower()] += 1\n",
    "    for word in negWords:\n",
    "        word_fd[word.lower()] += 1\n",
    "        cond_word_fd['neg'][word.lower()] += 1\n",
    "\n",
    "\n",
    "    pos_word_count = cond_word_fd['pos'].N()\n",
    "    neg_word_count = cond_word_fd['neg'].N()\n",
    "    total_word_count = pos_word_count + neg_word_count\n",
    "\n",
    "    word_scores = {}\n",
    "    for word, freq in word_fd.iteritems():\n",
    "        pos_score = BigramAssocMeasures.chi_sq(cond_word_fd['pos'][word], (freq, pos_word_count), total_word_count)\n",
    "        neg_score = BigramAssocMeasures.chi_sq(cond_word_fd['neg'][word], (freq, neg_word_count), total_word_count)\n",
    "        word_scores[word] = pos_score + neg_score\n",
    "\n",
    "    return word_scores"
   ]
  },
  {
   "cell_type": "code",
   "execution_count": 6,
   "metadata": {
    "collapsed": false
   },
   "outputs": [],
   "source": [
    "word_scores = create_word_scores()"
   ]
  },
  {
   "cell_type": "code",
   "execution_count": 7,
   "metadata": {
    "collapsed": true
   },
   "outputs": [],
   "source": [
    "def find_best_words(word_scores, number):\n",
    "    best_vals = sorted(word_scores.iteritems(), key=lambda (w, s): s, reverse=True)[:number]\n",
    "    best_words = set([w for w, s in best_vals])\n",
    "    return best_words"
   ]
  },
  {
   "cell_type": "code",
   "execution_count": 8,
   "metadata": {
    "collapsed": true
   },
   "outputs": [],
   "source": [
    "def best_word_features(words):\n",
    "    return dict([(word, True) for word in words if word in best_words])"
   ]
  },
  {
   "cell_type": "code",
   "execution_count": 9,
   "metadata": {
    "collapsed": false
   },
   "outputs": [
    {
     "name": "stdout",
     "output_type": "stream",
     "text": [
      "evaluating best 10 word features\n",
      "train on 342 instances, test on 274 instances\n",
      "accuracy: 0.434306569343\n",
      "pos precision: 0.434306569343\n",
      "pos recall: 1.0\n",
      "neg precision: None\n",
      "neg recall: 0.0\n",
      "Most Informative Features\n",
      "                       ! = True              pos : neg    =      5.1 : 1.0\n",
      "                      of = True              pos : neg    =      1.8 : 1.0\n",
      "                     the = True              pos : neg    =      1.6 : 1.0\n",
      "                     was = True              neg : pos    =      1.4 : 1.0\n",
      "                     but = True              pos : neg    =      1.4 : 1.0\n",
      "                      it = True              neg : pos    =      1.3 : 1.0\n",
      "                     the = None              neg : pos    =      1.3 : 1.0\n",
      "                    food = True              neg : pos    =      1.3 : 1.0\n",
      "                       ! = None              neg : pos    =      1.2 : 1.0\n",
      "                      of = None              neg : pos    =      1.1 : 1.0\n",
      "evaluating best 100 word features\n",
      "train on 342 instances, test on 274 instances\n",
      "accuracy: 0.441605839416\n",
      "pos precision: 0.4375\n",
      "pos recall: 1.0\n",
      "neg precision: 1.0\n",
      "neg recall: 0.0129032258065\n",
      "Most Informative Features\n",
      "                       ! = True              pos : neg    =      5.1 : 1.0\n",
      "                      in = True              pos : neg    =      4.5 : 1.0\n",
      "                    very = True              pos : neg    =      4.3 : 1.0\n",
      "                   still = True              neg : pos    =      4.1 : 1.0\n",
      "                    oily = True              neg : pos    =      4.1 : 1.0\n",
      "                    call = True              neg : pos    =      4.1 : 1.0\n",
      "                    were = True              pos : neg    =      3.0 : 1.0\n",
      "                    here = True              pos : neg    =      3.0 : 1.0\n",
      "                     any = True              neg : pos    =      3.0 : 1.0\n",
      "                   where = True              neg : pos    =      3.0 : 1.0\n",
      "evaluating best 1000 word features\n",
      "train on 342 instances, test on 274 instances\n",
      "accuracy: 0.441605839416\n",
      "pos precision: 0.4375\n",
      "pos recall: 1.0\n",
      "neg precision: 1.0\n",
      "neg recall: 0.0129032258065\n",
      "Most Informative Features\n",
      "                       2 = True              neg : pos    =     12.4 : 1.0\n",
      "                       ! = True              pos : neg    =      5.1 : 1.0\n",
      "                      in = True              pos : neg    =      4.5 : 1.0\n",
      "                    very = True              pos : neg    =      4.3 : 1.0\n",
      "                   still = True              neg : pos    =      4.1 : 1.0\n",
      "                    oily = True              neg : pos    =      4.1 : 1.0\n",
      "                    call = True              neg : pos    =      4.1 : 1.0\n",
      "                       i = True              neg : pos    =      4.1 : 1.0\n",
      "                    were = True              pos : neg    =      3.0 : 1.0\n",
      "                    here = True              pos : neg    =      3.0 : 1.0\n",
      "evaluating best 10000 word features\n",
      "train on 342 instances, test on 274 instances\n",
      "accuracy: 0.441605839416\n",
      "pos precision: 0.4375\n",
      "pos recall: 1.0\n",
      "neg precision: 1.0\n",
      "neg recall: 0.0129032258065\n",
      "Most Informative Features\n",
      "                       2 = True              neg : pos    =     12.4 : 1.0\n",
      "                       ! = True              pos : neg    =      5.1 : 1.0\n",
      "                      in = True              pos : neg    =      4.5 : 1.0\n",
      "                    very = True              pos : neg    =      4.3 : 1.0\n",
      "                   still = True              neg : pos    =      4.1 : 1.0\n",
      "                    oily = True              neg : pos    =      4.1 : 1.0\n",
      "                    call = True              neg : pos    =      4.1 : 1.0\n",
      "                       i = True              neg : pos    =      4.1 : 1.0\n",
      "                    were = True              pos : neg    =      3.0 : 1.0\n",
      "                    here = True              pos : neg    =      3.0 : 1.0\n",
      "evaluating best 15000 word features\n",
      "train on 342 instances, test on 274 instances\n",
      "accuracy: 0.441605839416\n",
      "pos precision: 0.4375\n",
      "pos recall: 1.0\n",
      "neg precision: 1.0\n",
      "neg recall: 0.0129032258065\n",
      "Most Informative Features\n",
      "                       2 = True              neg : pos    =     12.4 : 1.0\n",
      "                       ! = True              pos : neg    =      5.1 : 1.0\n",
      "                      in = True              pos : neg    =      4.5 : 1.0\n",
      "                    very = True              pos : neg    =      4.3 : 1.0\n",
      "                   still = True              neg : pos    =      4.1 : 1.0\n",
      "                    oily = True              neg : pos    =      4.1 : 1.0\n",
      "                    call = True              neg : pos    =      4.1 : 1.0\n",
      "                       i = True              neg : pos    =      4.1 : 1.0\n",
      "                    were = True              pos : neg    =      3.0 : 1.0\n",
      "                    here = True              pos : neg    =      3.0 : 1.0\n"
     ]
    }
   ],
   "source": [
    "numbers_to_test = [10, 100, 1000, 10000, 15000]\n",
    "for num in numbers_to_test:\n",
    "    print 'evaluating best %d word features' % (num)\n",
    "    best_words = find_best_words(word_scores, num)\n",
    "    evaluate_features(best_word_features)"
   ]
  },
  {
   "cell_type": "code",
   "execution_count": null,
   "metadata": {
    "collapsed": true
   },
   "outputs": [],
   "source": []
  }
 ],
 "metadata": {
  "kernelspec": {
   "display_name": "Python 2",
   "language": "python",
   "name": "python2"
  },
  "language_info": {
   "codemirror_mode": {
    "name": "ipython",
    "version": 2
   },
   "file_extension": ".py",
   "mimetype": "text/x-python",
   "name": "python",
   "nbconvert_exporter": "python",
   "pygments_lexer": "ipython2",
   "version": "2.7.10"
  }
 },
 "nbformat": 4,
 "nbformat_minor": 0
}
